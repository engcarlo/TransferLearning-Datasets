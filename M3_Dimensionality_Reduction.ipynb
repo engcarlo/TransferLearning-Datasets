{
  "nbformat": 4,
  "nbformat_minor": 0,
  "metadata": {
    "colab": {
      "private_outputs": true,
      "provenance": [],
      "authorship_tag": "ABX9TyM9gq0sLkfVzROXEdjAndwg",
      "include_colab_link": true
    },
    "kernelspec": {
      "name": "python3",
      "display_name": "Python 3"
    },
    "language_info": {
      "name": "python"
    }
  },
  "cells": [
    {
      "cell_type": "markdown",
      "metadata": {
        "id": "view-in-github",
        "colab_type": "text"
      },
      "source": [
        "<a href=\"https://colab.research.google.com/github/engcarlo/TransferLearning-Datasets/blob/main/M3_Dimensionality_Reduction.ipynb\" target=\"_parent\"><img src=\"https://colab.research.google.com/assets/colab-badge.svg\" alt=\"Open In Colab\"/></a>"
      ]
    },
    {
      "cell_type": "markdown",
      "source": [
        "### Load Libraries"
      ],
      "metadata": {
        "id": "2ZzJwKhdTOHD"
      }
    },
    {
      "cell_type": "code",
      "execution_count": null,
      "metadata": {
        "id": "TqEF6Zq9IG6F"
      },
      "outputs": [],
      "source": [
        "import cv2\n",
        "import numpy as np\n",
        "import os\n",
        "from google.colab.patches import cv2_imshow\n",
        "from google.colab import files"
      ]
    },
    {
      "cell_type": "markdown",
      "source": [
        "### Load External Image [Option I]"
      ],
      "metadata": {
        "id": "yJbO7OkDTMPZ"
      }
    },
    {
      "cell_type": "code",
      "source": [
        "uploaded = files.upload(target_dir = \"downloads\")\n",
        "image_path = list(uploaded.keys())[0]"
      ],
      "metadata": {
        "id": "c020KetlTkKe"
      },
      "execution_count": null,
      "outputs": []
    },
    {
      "cell_type": "markdown",
      "source": [
        "### Load Images from Repository [Option II]"
      ],
      "metadata": {
        "id": "oa2pplveXtLE"
      }
    },
    {
      "cell_type": "code",
      "source": [
        "user = \"engcarlo\"\n",
        "repo = \"TransferLearning-Datasets\"\n",
        "\n",
        "# remove local directory if it already exists\n",
        "if os.path.isdir(repo):\n",
        "    !rm -rf {repo}\n",
        "\n",
        "!git clone https://github.com/{user}/{repo}.git"
      ],
      "metadata": {
        "id": "7O7zu-nVXt4I"
      },
      "execution_count": null,
      "outputs": []
    },
    {
      "cell_type": "code",
      "source": [
        "image_path = \"/content/TransferLearning-Datasets/Dataset/Test Sample/sample01.jpg\""
      ],
      "metadata": {
        "id": "A3sJXhkiYe0q"
      },
      "execution_count": null,
      "outputs": []
    },
    {
      "cell_type": "markdown",
      "source": [
        "## Functions"
      ],
      "metadata": {
        "id": "AR4hHUO_YB_f"
      }
    },
    {
      "cell_type": "code",
      "metadata": {
        "id": "789149e7"
      },
      "source": [
        "# Laoad Original Image\n",
        "def LoadSampleIMG(image_path):\n",
        "  try:\n",
        "      image = cv2.imread(image_path)\n",
        "\n",
        "      if image is not None:\n",
        "          print(\"Image loaded successfully!\")\n",
        "          # Display the original image (optional)\n",
        "          img_loaded = cv2_imshow(image)\n",
        "      else:\n",
        "          print(\"Error loading image. Check the file path.\")\n",
        "\n",
        "  except Exception as e:\n",
        "      print(f\"An error occurred: {e}\")\n",
        "  return img_loaded, image\n",
        "\n",
        "# Convert to Grayscale\n",
        "def Convert2Grayscale(image_path):\n",
        "  image = cv2.imread(image_path)\n",
        "  if image is not None:\n",
        "      gray_image = cv2.cvtColor(image, cv2.COLOR_BGR2GRAY)\n",
        "      print(\"Image converted to grayscale successfully!\")\n",
        "      # Display the grayscale image (optional)\n",
        "      img_grayscale = cv2_imshow(gray_image)\n",
        "  else:\n",
        "      img_grayscale = 0\n",
        "      print(\"Could not convert the image to grayscale, as the original image was not loaded.\")\n",
        "  return img_grayscale, gray_image\n",
        "\n",
        "# Convert to Black and White (Binary)\n",
        "def Convert2Binary(image_path, colorSetup):\n",
        "  image = cv2.imread(image_path)\n",
        "  if image is not None:\n",
        "      # Apply a threshold to binarize the image\n",
        "      # The first return value is the threshold used (useful if using OTSU)\n",
        "      # The second return value is the binarized image\n",
        "      # cv2.THRESH_BINARY creates a binary image where pixels > threshold are set to max_value (255) and others to 0\n",
        "      # You can experiment with different threshold values and threshold types (like cv2.THRESH_BINARY_INV, cv2.THRESH_TRUNC, etc.)\n",
        "      gray_image = cv2.cvtColor(image, cv2.COLOR_BGR2GRAY)\n",
        "      max_value = 255\n",
        "\n",
        "      threshold_value = colorSetup['Threshold Value']\n",
        "      threshold_type_str = colorSetup['Threshold Type']\n",
        "\n",
        "      # Use a dictionary as a switch-case for threshold types\n",
        "      threshold_types = {\n",
        "          \"THRESH_BINARY\":        cv2.THRESH_BINARY,\n",
        "          \"THRESH_BINARY_INV\":    cv2.THRESH_BINARY_INV,\n",
        "          \"THRESH_TRUNC\":         cv2.THRESH_TRUNC,\n",
        "          \"THRESH_TOZERO\":        cv2.THRESH_TOZERO,\n",
        "          \"THRESH_TOZERO_INV\":    cv2.THRESH_TOZERO_INV,\n",
        "          \"THRESH_OTSU\":          cv2.THRESH_OTSU\n",
        "      }\n",
        "      # Default to THRESH_BINARY if string is not recognized\n",
        "      threshold_type = threshold_types.get(colorSetup['Threshold Type'], cv2.THRESH_BINARY)\n",
        "\n",
        "      # If using OTSU, the colorSetup['Threshold Value'] is ignored and calculated automatically\n",
        "      if threshold_types[colorSetup['Threshold Type']] == cv2.THRESH_OTSU:\n",
        "          ret, binary_image = cv2.threshold(gray_image, 0, max_value, cv2.THRESH_OTSU)\n",
        "      else:\n",
        "          ret, binary_image = cv2.threshold(gray_image, colorSetup['Threshold Value'], max_value, threshold_types[colorSetup['Threshold Type']])\n",
        "\n",
        "      print(f\"Image binarized successfully using threshold: {ret}\")\n",
        "      # Display the binarized image (optional)\n",
        "      img_binary = cv2_imshow(binary_image)\n",
        "  else:\n",
        "      print(\"Could not binarize the image, as the grayscale image was not generated.\")\n",
        "      return None\n",
        "  return img_binary, binary_image\n",
        "\n",
        "# Organize Images Side-by-Side (Original, Grayscale, and Black&White)\n",
        "def display_images_side_by_side(img_original, img_gray, img_binary):\n",
        "    \"\"\"\n",
        "    Displays original, grayscale, and binary images side by side horizontally.\n",
        "\n",
        "    Args:\n",
        "        img_original: The original image (RGB).\n",
        "        img_gray: The grayscale image.\n",
        "        img_binary: The binary image.\n",
        "    \"\"\"\n",
        "    if img_original is None or img_gray is None or img_binary is None:\n",
        "        print(\"One or more images are not available for display.\")\n",
        "        return\n",
        "\n",
        "    # Ensure images have the same height for horizontal stacking\n",
        "    height          = max(img_original.shape[0], img_gray.shape[0], img_binary.shape[0])\n",
        "    width_original  = int(img_original.shape[1] * (height / img_original.shape[0]))\n",
        "    width_gray      = int(img_gray.shape[1] * (height / img_gray.shape[0]))\n",
        "    width_binary    = int(img_binary.shape[1] * (height / img_binary.shape[0]))\n",
        "\n",
        "    img_original_resized  = cv2.resize(img_original, (width_original, height))\n",
        "    img_gray_resized      = cv2.resize(img_gray, (width_gray, height))\n",
        "    img_binary_resized    = cv2.resize(img_binary, (width_binary, height))\n",
        "\n",
        "    # Convert grayscale and binary to 3 channels to stack with color image\n",
        "    if len(img_gray_resized.shape) == 2:\n",
        "        img_gray_resized    = cv2.cvtColor(img_gray_resized, cv2.COLOR_GRAY2BGR)\n",
        "    if len(img_binary_resized.shape) == 2:\n",
        "        img_binary_resized  = cv2.cvtColor(img_binary_resized, cv2.COLOR_GRAY2BGR)\n",
        "\n",
        "\n",
        "    # Stack images horizontally\n",
        "    combined_image = np.hstack(\n",
        "        (img_original_resized, img_gray_resized, img_binary_resized)\n",
        "        )\n",
        "    img_combined = cv2_imshow(combined_image)\n",
        "\n",
        "    return img_combined, combined_image"
      ],
      "execution_count": null,
      "outputs": []
    },
    {
      "cell_type": "markdown",
      "source": [
        "# Examples"
      ],
      "metadata": {
        "id": "Inhy7o-PW-47"
      }
    },
    {
      "cell_type": "markdown",
      "source": [
        "### Original Image"
      ],
      "metadata": {
        "id": "kVNlru99Z-RL"
      }
    },
    {
      "cell_type": "code",
      "source": [
        "img_original, original_image = LoadSampleIMG(image_path)\n",
        "img_original"
      ],
      "metadata": {
        "id": "rpqztTbXY_Ts"
      },
      "execution_count": null,
      "outputs": []
    },
    {
      "cell_type": "markdown",
      "source": [
        "### Grayscale Image Conversion"
      ],
      "metadata": {
        "id": "vjs8EDQtTI5z"
      }
    },
    {
      "cell_type": "code",
      "source": [
        "img_grayscale, gray_image = Convert2Grayscale(image_path)\n",
        "img_grayscale"
      ],
      "metadata": {
        "id": "IozIWW4mamc0"
      },
      "execution_count": null,
      "outputs": []
    },
    {
      "cell_type": "markdown",
      "source": [
        "### Binarize the image\n"
      ],
      "metadata": {
        "id": "n-aOpnarS98U"
      }
    },
    {
      "cell_type": "markdown",
      "metadata": {
        "id": "fcdc3988"
      },
      "source": [
        "How to adjust the threshold value for binarization\n",
        "You can adjust the threshold value (`threshold_value` in the `cv2.threshold` function) by experimenting with different integer numbers between 0 and 255.\n",
        "\n",
        "Additionally, `cv2.threshold` has different types of thresholding you can use:\n",
        "- **cv2.THRESH_BINARY**: If the pixel is greater than the threshold, it becomes `max_value` (usually 255), otherwise it becomes 0.\n",
        "- **cv2.THRESH_BINARY_INV**: The inverse of `cv2.THRESH_BINARY`.\n",
        "- **cv2.THRESH_TRUNC**: If the pixel is greater than the threshold, it becomes the threshold, otherwise it remains the same.\n",
        "- **cv2.THRESH_TOZERO**: If the pixel is greater than the threshold, it remains the same, otherwise it becomes 0.\n",
        "- **cv2.THRESH_TOZERO_INV**: The inverse of `cv2.THRESH_TOZERO`.\n",
        "\n",
        "To find the best threshold, you can:\n",
        "\n",
        "1. **Experiment manually**: Try a few values and see the result.\n",
        "2. **Use automatic methods**: OpenCV offers methods like OTSU's binarization (`cv2.THRESH_OTSU`) which automatically calculates the ideal threshold for images with two peaks in their histogram (e.g., foreground and background). To use OTSU, you pass 0 for the threshold value and add `cv2.THRESH_OTSU` to the threshold type.\n",
        "\n",
        "You can modify the binarization code cell to experiment with different threshold values and types and see how they affect the resulting image."
      ]
    },
    {
      "cell_type": "code",
      "source": [
        "colorSetup = {}\n",
        "colorSetup['Threshold Value'] = 100 # @param {type: \"slider\", min: 0, max: 255, step: 1}\n",
        "colorSetup['Threshold Type']  = \"THRESH_OTSU\" # @param {type: \"string\"}[\"THRESH_BINARY\", \"THRESH_BINARY_INV\", \"THRESH_TRUNC\", \"THRESH_TOZERO\", \"THRESH_TOZERO_INV\", \"THRESH_OTSU\"]"
      ],
      "metadata": {
        "id": "5mV6yMtEcrpx"
      },
      "execution_count": null,
      "outputs": []
    },
    {
      "cell_type": "code",
      "source": [
        "img_binary, binary_image = Convert2Binary(image_path, colorSetup)\n",
        "img_binary"
      ],
      "metadata": {
        "id": "XV-syI-dviyS"
      },
      "execution_count": null,
      "outputs": []
    },
    {
      "cell_type": "markdown",
      "source": [
        "### Compare original image with the binarized one"
      ],
      "metadata": {
        "id": "EBvdCOXuTC2U"
      }
    },
    {
      "cell_type": "code",
      "metadata": {
        "id": "00f7b58b"
      },
      "source": [
        "img_combined, combined_images = display_images_side_by_side(original_image, gray_image, binary_image)\n",
        "img_combined"
      ],
      "execution_count": null,
      "outputs": []
    },
    {
      "cell_type": "markdown",
      "source": [
        "### Save Image"
      ],
      "metadata": {
        "id": "5qe4S31z9Ru8"
      }
    },
    {
      "cell_type": "code",
      "source": [
        "output_path = \"combined_image.jpg\"\n",
        "cv2.imwrite(output_path, combined_images)"
      ],
      "metadata": {
        "id": "GU7B5tvf7KGP"
      },
      "execution_count": null,
      "outputs": []
    }
  ]
}