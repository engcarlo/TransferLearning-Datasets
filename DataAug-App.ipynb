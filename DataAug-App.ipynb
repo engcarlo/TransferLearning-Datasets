{
  "cells": [
    {
      "cell_type": "markdown",
      "id": "be29911e",
      "metadata": {
        "id": "be29911e"
      },
      "source": [
        "\"\"\"\n",
        "https://keras.io/api/data_loading/image/\n",
        "\n",
        "## Data Augmentation\n",
        "\n",
        "Data augmentation is a technique used to increase the size and diversity of a training dataset by applying random transformations to the original images. This helps to prevent overfitting and improve the generalization ability of the model.\n",
        "\n",
        "In this section, we will define functions that perform common data augmentation techniques such as rotation, zooming, and horizontal flipping using Keras's `ImageDataGenerator`.\n",
        "\"\"\""
      ]
    },
    {
      "cell_type": "markdown",
      "id": "10eeb407",
      "metadata": {
        "id": "10eeb407"
      },
      "source": [
        "## Libraries"
      ]
    },
    {
      "cell_type": "code",
      "execution_count": 2,
      "id": "b23876a9",
      "metadata": {
        "id": "b23876a9"
      },
      "outputs": [],
      "source": [
        "from tensorflow.keras.preprocessing.image import ImageDataGenerator, array_to_img, img_to_array, load_img\n",
        "import numpy as np\n",
        "import os"
      ]
    },
    {
      "cell_type": "markdown",
      "id": "a6259303",
      "metadata": {
        "id": "a6259303"
      },
      "source": [
        "## Functions"
      ]
    },
    {
      "cell_type": "code",
      "execution_count": null,
      "id": "da10f8a2",
      "metadata": {
        "id": "da10f8a2"
      },
      "outputs": [],
      "source": [
        "def augment_image(path, datagen, setupgen):\n",
        "  \"\"\"\n",
        "  Applies data augmentation to a single image.\n",
        "\n",
        "  Args:\n",
        "    image_array: A numpy array representing the image.\n",
        "    datagen: An instance of ImageDataGenerator for data augmentation with the parameters specified.\n",
        "  Returns:\n",
        "    A numpy array representing the augmented image.\n",
        "  \"\"\"\n",
        "\n",
        "\n",
        "  img = load_img(path)  # this is a PIL image\n",
        "  x = img_to_array(img)  # this is a Numpy array with shape (3, 150, 150)\n",
        "  x = x.reshape((1,) + x.shape)  # this is a Numpy array with shape (1, 3, 150, 150)\n",
        "\n",
        "  # the .flow() command below generates batches of randomly transformed images\n",
        "  # and saves the results to the `preview/` directory\n",
        "  i = 0\n",
        "  for batch in datagen.flow(x,\n",
        "                            batch_size  = setupgen['Batch Size'],\n",
        "                            save_to_dir = setupgen['Save Directory'],\n",
        "                            save_prefix = setupgen['File Prefix'],\n",
        "                            save_format = setupgen['File Format'] ):\n",
        "      i += 1\n",
        "      if i > 20:\n",
        "          break  # otherwise the generator would loop indefinitely\n",
        "  return\n"
      ]
    },
    {
      "cell_type": "markdown",
      "id": "c45af158",
      "metadata": {
        "id": "c45af158"
      },
      "source": [
        "## Define data augmentation parameters"
      ]
    },
    {
      "cell_type": "markdown",
      "source": [
        "#### Data File Setup"
      ],
      "metadata": {
        "id": "tnb6RVCpdR_L"
      },
      "id": "tnb6RVCpdR_L"
    },
    {
      "cell_type": "code",
      "source": [
        "setupgen = {}\n",
        "setupgen['File Format']     = \"jpg\" # @param [\"png\", \"jpg\", \"jpeg\", \"bmp\", \"ppm\", \"tif\", \"tiff\"]\n",
        "setupgen['Save Directory']  = \"DataAugmentation\"\n",
        "setupgen['File Prefix']     = \"\"\n",
        "setupgen['Batch Size']      = 1\n"
      ],
      "metadata": {
        "id": "DrYSf-zHdIdS"
      },
      "id": "DrYSf-zHdIdS",
      "execution_count": null,
      "outputs": []
    },
    {
      "cell_type": "markdown",
      "source": [
        "#### Data Gen Setup"
      ],
      "metadata": {
        "id": "Me8S01BHdL7D"
      },
      "id": "Me8S01BHdL7D"
    },
    {
      "cell_type": "code",
      "execution_count": null,
      "id": "7b269d7d",
      "metadata": {
        "id": "7b269d7d"
      },
      "outputs": [],
      "source": [
        "set_rotation_rng        = 45 # @param {type:\"slider\", min:0, max:180, step:5}\n",
        "set_width_shift_rng     = 0.2 # @param {type:\"slider\", min:0, max:1, step:0.05}\n",
        "set_height_shift_rng    = 0.2 # @param {type:\"slider\", min:0, max:1, step:0.05}\n",
        "set_shear_rng           = 0.2 # @param {type:\"slider\", min:0, max:1, step:0.05}\n",
        "set_zoom_rng            = 0.2 # @param {type:\"slider\", min:0, max:1, step:0.05}\n",
        "set_horizontal_flip     = True # @param {type: \"boolean\"}\n",
        "\"\"\"\n",
        "The fill_mode parameter in ImageDataGenerator accepts the following values:\n",
        "\"nearest\":  Fills the missing pixels with the nearest pixel value.\n",
        "\"reflect\":  Fills the missing pixels with a reflection of the pixels near the edge.\n",
        "\"wrap\":     Fills the missing pixels by wrapping the image around.\n",
        "\"constant\": Fills the missing pixels with a constant value (specified by the cval parameter).\n",
        "\"\"\"\n",
        "set_fill_mode           = \"reflect\" # @param {type: \"string\"} [\"constant\", \"wrap\", \"nearest\", \"reflect\"]\n",
        "set_cval                = 0 # @param {type:\"slider\", min:0, max:255, step:1}\n",
        "\n",
        "datagen = ImageDataGenerator(\n",
        "    rotation_range      = set_rotation_rng,         # Rotate images by a random degree between -20 and 20\n",
        "    width_shift_range   = set_width_shift_rng,\n",
        "    height_shift_range  = set_height_shift_rng,\n",
        "    shear_range         = set_shear_rng,\n",
        "    zoom_range          = set_zoom_rng,             # Zoom in or out by a random factor between 0.9 and 1.1\n",
        "    horizontal_flip     = set_horizontal_flip,      # Randomly flip images horizontally\n",
        "    fill_mode           = set_fill_mode,            # Fill in missing pixels after transformations\n",
        "    set_cval            = set_cval,                 # Value to use for constant fill mode\n",
        "\n",
        "  )\n"
      ]
    },
    {
      "cell_type": "markdown",
      "id": "0c7aebe7",
      "metadata": {
        "id": "0c7aebe7"
      },
      "source": [
        "## Examples"
      ]
    },
    {
      "cell_type": "code",
      "execution_count": null,
      "id": "7ff4e2e4",
      "metadata": {
        "id": "7ff4e2e4"
      },
      "outputs": [],
      "source": []
    }
  ],
  "metadata": {
    "kernelspec": {
      "display_name": ".venv",
      "language": "python",
      "name": "python3"
    },
    "language_info": {
      "codemirror_mode": {
        "name": "ipython",
        "version": 3
      },
      "file_extension": ".py",
      "mimetype": "text/x-python",
      "name": "python",
      "nbconvert_exporter": "python",
      "pygments_lexer": "ipython3",
      "version": "3.11.9"
    },
    "colab": {
      "provenance": []
    }
  },
  "nbformat": 4,
  "nbformat_minor": 5
}