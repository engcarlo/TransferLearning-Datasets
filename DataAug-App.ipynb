{
 "cells": [
  {
   "cell_type": "markdown",
   "id": "be29911e",
   "metadata": {},
   "source": [
    "\"\"\"\n",
    "https://keras.io/api/data_loading/image/\n",
    "\n",
    "## Data Augmentation\n",
    "\n",
    "Data augmentation is a technique used to increase the size and diversity of a training dataset by applying random transformations to the original images. This helps to prevent overfitting and improve the generalization ability of the model.\n",
    "\n",
    "In this section, we will define functions that perform common data augmentation techniques such as rotation, zooming, and horizontal flipping using Keras's `ImageDataGenerator`.\n",
    "\"\"\""
   ]
  },
  {
   "cell_type": "markdown",
   "id": "10eeb407",
   "metadata": {},
   "source": [
    "## Libraries"
   ]
  },
  {
   "cell_type": "code",
   "execution_count": 2,
   "id": "b23876a9",
   "metadata": {},
   "outputs": [
    {
     "ename": "ModuleNotFoundError",
     "evalue": "No module named 'keras'",
     "output_type": "error",
     "traceback": [
      "\u001b[31m---------------------------------------------------------------------------\u001b[39m",
      "\u001b[31mModuleNotFoundError\u001b[39m                       Traceback (most recent call last)",
      "\u001b[36mCell\u001b[39m\u001b[36m \u001b[39m\u001b[32mIn[2]\u001b[39m\u001b[32m, line 1\u001b[39m\n\u001b[32m----> \u001b[39m\u001b[32m1\u001b[39m \u001b[38;5;28;01mfrom\u001b[39;00m\u001b[38;5;250m \u001b[39m\u001b[34;01mkeras\u001b[39;00m\u001b[34;01m.\u001b[39;00m\u001b[34;01mpreprocessing\u001b[39;00m\u001b[34;01m.\u001b[39;00m\u001b[34;01mimage\u001b[39;00m\u001b[38;5;250m \u001b[39m\u001b[38;5;28;01mimport\u001b[39;00m ImageDataGenerator, array_to_img, img_to_array, load_img\n\u001b[32m      2\u001b[39m \u001b[38;5;28;01mimport\u001b[39;00m\u001b[38;5;250m \u001b[39m\u001b[34;01mnumpy\u001b[39;00m\u001b[38;5;250m \u001b[39m\u001b[38;5;28;01mas\u001b[39;00m\u001b[38;5;250m \u001b[39m\u001b[34;01mnp\u001b[39;00m\n",
      "\u001b[31mModuleNotFoundError\u001b[39m: No module named 'keras'"
     ]
    }
   ],
   "source": [
    "from keras.preprocessing.image import ImageDataGenerator, array_to_img, img_to_array, load_img\n",
    "import numpy as np\n"
   ]
  },
  {
   "cell_type": "markdown",
   "id": "c45af158",
   "metadata": {},
   "source": [
    "## Define data augmentation parameters"
   ]
  },
  {
   "cell_type": "code",
   "execution_count": null,
   "id": "7b269d7d",
   "metadata": {},
   "outputs": [],
   "source": [
    "\n",
    "set_rotation_rng        = 45 # @param {type:\"slider\", min:0, max:180, step:5}\n",
    "set_width_shift_rng     = 0.2 # @param {type:\"slider\", min:0, max:1, step:0.05}\n",
    "set_height_shift_rng    = 0.2 # @param {type:\"slider\", min:0, max:1, step:0.05}\n",
    "set_shear_rng           = 0.2 # @param {type:\"slider\", min:0, max:1, step:0.05}\n",
    "set_zoom_rng            = 0.2 # @param {type:\"slider\", min:0, max:1, step:0.05}\n",
    "set_horizontal_flip     = True # @param {type: \"bool\"}\n",
    "set_fill_mode           = \"nearest\" # @param {type: \"string\"}\n",
    "\n",
    "datagen = ImageDataGenerator(\n",
    "    rotation_range      = set_rotation_rng,         # Rotate images by a random degree between -20 and 20\n",
    "    width_shift_range   = set_width_shift_rng,\n",
    "    height_shift_range  = set_height_shift_rng,\n",
    "    shear_range         = set_shear_rng,\n",
    "    zoom_range          = set_zoom_rng,             # Zoom in or out by a random factor between 0.9 and 1.1\n",
    "    horizontal_flip     = set_horizontal_flip,      # Randomly flip images horizontally\n",
    "    fill_mode           = set_fill_mode             # Fill in missing pixels after transformations\n",
    ")\n"
   ]
  },
  {
   "cell_type": "markdown",
   "id": "a6259303",
   "metadata": {},
   "source": [
    "## Functions"
   ]
  },
  {
   "cell_type": "code",
   "execution_count": null,
   "id": "da10f8a2",
   "metadata": {},
   "outputs": [],
   "source": [
    "def augment_image(path, datagen):\n",
    "  \"\"\"\n",
    "  Applies data augmentation to a single image.\n",
    "\n",
    "  Args:\n",
    "    image_array: A numpy array representing the image.\n",
    "    datagen: An instance of ImageDataGenerator for data augmentation with the parameters specified.\n",
    "  Returns:\n",
    "    A numpy array representing the augmented image.\n",
    "  \"\"\"\n",
    "\n",
    "\n",
    "  img = load_img(path)  # this is a PIL image\n",
    "  x = img_to_array(img)  # this is a Numpy array with shape (3, 150, 150)\n",
    "  x = x.reshape((1,) + x.shape)  # this is a Numpy array with shape (1, 3, 150, 150)\n",
    "\n",
    "  # the .flow() command below generates batches of randomly transformed images\n",
    "  # and saves the results to the `preview/` directory\n",
    "  i = 0\n",
    "  for batch in datagen.flow(x, \n",
    "                            batch_size  = 1,\n",
    "                            save_to_dir = 'preview',\n",
    "                            save_prefix = 'cat', \n",
    "                            save_format = 'jpeg'):\n",
    "      i += 1\n",
    "      if i > 20:\n",
    "          break  # otherwise the generator would loop indefinitely\n",
    "  return\n"
   ]
  },
  {
   "cell_type": "markdown",
   "id": "0c7aebe7",
   "metadata": {},
   "source": [
    "## Examples"
   ]
  },
  {
   "cell_type": "code",
   "execution_count": null,
   "id": "7ff4e2e4",
   "metadata": {},
   "outputs": [],
   "source": [
    "augmented_x_train = np.array([augment_image(img) for img in x_train])\n",
    "augmented_x_val = np.array([augment_image(img) for img in x_val])"
   ]
  }
 ],
 "metadata": {
  "kernelspec": {
   "display_name": ".venv",
   "language": "python",
   "name": "python3"
  },
  "language_info": {
   "codemirror_mode": {
    "name": "ipython",
    "version": 3
   },
   "file_extension": ".py",
   "mimetype": "text/x-python",
   "name": "python",
   "nbconvert_exporter": "python",
   "pygments_lexer": "ipython3",
   "version": "3.11.9"
  }
 },
 "nbformat": 4,
 "nbformat_minor": 5
}
