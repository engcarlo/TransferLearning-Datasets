{
  "cells": [
    {
      "cell_type": "markdown",
      "metadata": {
        "id": "view-in-github",
        "colab_type": "text"
      },
      "source": [
        "<a href=\"https://colab.research.google.com/github/engcarlo/TransferLearning-Datasets/blob/main/DataAug-App.ipynb\" target=\"_parent\"><img src=\"https://colab.research.google.com/assets/colab-badge.svg\" alt=\"Open In Colab\"/></a>"
      ]
    },
    {
      "cell_type": "markdown",
      "id": "be29911e",
      "metadata": {
        "id": "be29911e"
      },
      "source": [
        "\"\"\"\n",
        "https://keras.io/api/data_loading/image/\n",
        "\n",
        "## Data Augmentation\n",
        "\n",
        "Data augmentation is a technique used to increase the size and diversity of a training dataset by applying random transformations to the original images. This helps to prevent overfitting and improve the generalization ability of the model.\n",
        "\n",
        "In this section, we will define functions that perform common data augmentation techniques such as rotation, zooming, and horizontal flipping using Keras's `ImageDataGenerator`.\n",
        "\"\"\""
      ]
    },
    {
      "cell_type": "markdown",
      "id": "10eeb407",
      "metadata": {
        "id": "10eeb407"
      },
      "source": [
        "## Libraries"
      ]
    },
    {
      "cell_type": "code",
      "execution_count": 1,
      "id": "b23876a9",
      "metadata": {
        "id": "b23876a9"
      },
      "outputs": [],
      "source": [
        "from tensorflow.keras.preprocessing.image import ImageDataGenerator, array_to_img, img_to_array, load_img\n",
        "import numpy as np\n",
        "import os"
      ]
    },
    {
      "cell_type": "markdown",
      "source": [
        "### Getting a dataset\n",
        "\n",
        "The first step is going to be to load our data. As our example, we will be using the dataset **Cats vs. Dogs**. This dataset is a classic image classification dataset containing images of cats and dogs, and is suitable for demonstrating transfer learning techniques.\n",
        "\n",
        "To obtain this dataset, you can download it from the Github Repository using the following link:\n",
        "\n",
        "[https://github.com/engcarlo/TransferLearning-Datasets/tree/main/Dataset](https://github.com/engcarlo/TransferLearning-Datasets/tree/main/Dataset)\n",
        "\n",
        "Alternatively, it can be found in may Kaggle profile dataset using the following link:\n",
        "\n",
        "[https://www.kaggle.com/datasets/quantyukio/cats-and-dogs-sample2transfer-learning](https://www.kaggle.com/datasets/quantyukio/cats-and-dogs-sample2transfer-learning)\n",
        "\n",
        "Moreover, if you have already downloaded and organized the dataset, ensure it is arranged in a similar fashion to the structure expected by the code in this notebook, with images organized into subfolders, one for each class (e.g., 'Cats' and 'Dogs'). If you wish to use your own dataset with a different structure, you will need to modify the data loading code to correctly load your images and their corresponding labels. The helper function `get_image(path)` can be used to load and preprocess individual images to the required 224x224 size for the VGG16 model.\n",
        "\n",
        "If your dataset is organized with subfolders for each class, the following cell should load all the data correctly by just replacing `root` with the path to your dataset folder."
      ],
      "metadata": {
        "id": "n-0Qy_sx_DA0"
      },
      "id": "n-0Qy_sx_DA0"
    },
    {
      "cell_type": "code",
      "source": [
        "user = \"engcarlo\"\n",
        "repo = \"TransferLearning-Datasets\"\n",
        "\n",
        "# remove local directory if it already exists\n",
        "if os.path.isdir(repo):\n",
        "    !rm -rf {repo}\n",
        "\n",
        "!git clone https://github.com/{user}/{repo}.git"
      ],
      "metadata": {
        "colab": {
          "base_uri": "https://localhost:8080/"
        },
        "id": "nBiBRt2s_ET7",
        "outputId": "52b6b4c8-d224-4746-bd77-252c7cf0f4c9"
      },
      "id": "nBiBRt2s_ET7",
      "execution_count": 5,
      "outputs": [
        {
          "output_type": "stream",
          "name": "stdout",
          "text": [
            "Cloning into 'TransferLearning-Datasets'...\n",
            "remote: Enumerating objects: 240, done.\u001b[K\n",
            "remote: Counting objects: 100% (240/240), done.\u001b[K\n",
            "remote: Compressing objects: 100% (236/236), done.\u001b[K\n",
            "remote: Total 240 (delta 16), reused 218 (delta 4), pack-reused 0 (from 0)\u001b[K\n",
            "Receiving objects: 100% (240/240), 5.04 MiB | 21.94 MiB/s, done.\n",
            "Resolving deltas: 100% (16/16), done.\n"
          ]
        }
      ]
    },
    {
      "cell_type": "markdown",
      "id": "a6259303",
      "metadata": {
        "id": "a6259303"
      },
      "source": [
        "## Functions"
      ]
    },
    {
      "cell_type": "code",
      "execution_count": 39,
      "id": "da10f8a2",
      "metadata": {
        "id": "da10f8a2"
      },
      "outputs": [],
      "source": [
        "def augment_image(path, datagen, setupgen):\n",
        "  \"\"\"\n",
        "  Applies data augmentation to a single image.\n",
        "\n",
        "  Args:\n",
        "    image_array: A numpy array representing the image.\n",
        "    datagen: An instance of ImageDataGenerator for data augmentation with the parameters specified.\n",
        "  Returns:\n",
        "    A numpy array representing the augmented image.\n",
        "  \"\"\"\n",
        "\n",
        "  img = load_img(path,\n",
        "                 color_mode         = setupgen['Color Mode'],\n",
        "                 target_size        = setupgen['Target Size'],\n",
        "                 interpolation      = setupgen['Interpolation'],\n",
        "                 keep_aspect_ratio  = setupgen['Keep Aspect Ratio']\n",
        "                 )            # this is a PIL image\n",
        "  x = img_to_array(img)\n",
        "  x = x.reshape((1,) + x.shape)\n",
        "\n",
        "  # Create the save directory if it doesn't exist\n",
        "  if not os.path.exists(setupgen['Save Directory']):\n",
        "      os.makedirs(setupgen['Save Directory'])\n",
        "\n",
        "  # the .flow() command below generates batches of randomly transformed images\n",
        "  i = 0\n",
        "  for batch in datagen.flow(x,\n",
        "              batch_size  = setupgen['Batch Size'],\n",
        "              save_to_dir = setupgen['Save Directory'],\n",
        "              save_prefix = setupgen['File Prefix'],\n",
        "              save_format = setupgen['File Format'],\n",
        "              seed        = setupgen['Seed']):\n",
        "      i += 1\n",
        "      if i > setupgen['Number of Generations']:\n",
        "          break  # otherwise the generator would loop indefinitely\n",
        "  return"
      ]
    },
    {
      "cell_type": "markdown",
      "id": "c45af158",
      "metadata": {
        "id": "c45af158"
      },
      "source": [
        "## Define data augmentation parameters"
      ]
    },
    {
      "cell_type": "markdown",
      "source": [
        "#### Data Gen Setup\n",
        "\n",
        "The fill_mode parameter in ImageDataGenerator accepts the following values:\n",
        "\n",
        "\"nearest\":  \n",
        "- Fills the missing pixels with the nearest pixel value.\n",
        "\n",
        "\"reflect\":  \n",
        "- Fills the missing pixels with a reflection of the pixels near the edge.\n",
        "\n",
        "\"wrap\":\n",
        "- Fills the missing pixels by wrapping the image around.\n",
        "\n",
        "\"constant\":\n",
        "- Fills the missing pixels with a constant value (specified by the cval parameter)."
      ],
      "metadata": {
        "id": "Me8S01BHdL7D"
      },
      "id": "Me8S01BHdL7D"
    },
    {
      "cell_type": "code",
      "execution_count": 40,
      "id": "7b269d7d",
      "metadata": {
        "id": "7b269d7d"
      },
      "outputs": [],
      "source": [
        "set_rotation_rng        = 45 # @param {type:\"slider\", min:0, max:180, step:5}\n",
        "set_width_shift_rng     = 0.2 # @param {type:\"slider\", min:0, max:1, step:0.05}\n",
        "set_height_shift_rng    = 0.2 # @param {type:\"slider\", min:0, max:1, step:0.05}\n",
        "set_shear_rng           = 0.2 # @param {type:\"slider\", min:0, max:1, step:0.05}\n",
        "set_zoom_rng            = 0.2 # @param {type:\"slider\", min:0, max:1, step:0.05}\n",
        "set_horizontal_flip     = True # @param {type: \"boolean\"}\n",
        "set_vertical_flip       = True # @param {type: \"boolean\"}\n",
        "set_fill_mode           = \"reflect\" # @param {type: \"string\"} [\"constant\", \"wrap\", \"nearest\", \"reflect\"]\n",
        "set_cval                = 0 # @param {type:\"slider\", min: 0.0, max:1.0, step:0.01}\n",
        "\n",
        "datagen = ImageDataGenerator(\n",
        "    rotation_range      = set_rotation_rng,         # Rotate images by a random degree between -20 and 20\n",
        "    width_shift_range   = set_width_shift_rng,\n",
        "    height_shift_range  = set_height_shift_rng,\n",
        "    shear_range         = set_shear_rng,\n",
        "    zoom_range          = set_zoom_rng,             # Zoom in or out by a random factor between 0.9 and 1.1\n",
        "    horizontal_flip     = set_horizontal_flip,      # Randomly flip images horizontally\n",
        "    vertical_flip       = set_vertical_flip,        # Randomly flip images vertically\n",
        "    fill_mode           = set_fill_mode,            # Fill in missing pixels after transformations\n",
        "    cval                = set_cval,                 # Value to use for constant fill mode\n",
        "  )\n"
      ]
    },
    {
      "cell_type": "markdown",
      "source": [
        "#### Data File Setup\n",
        "\n",
        "color_mode:\n",
        "- One of `\"grayscale\"`, `\"rgb\"`, `\"rgba\"`. Default: `\"rgb\"`.\n",
        "\n",
        "target_size:\n",
        "- Either `None` (default to original size) or tuple of ints\n",
        "(img_height, img_width).\n",
        "\n",
        "interpolation:\n",
        "- Interpolation method used to resample the image if the target size is different from that of the loaded image.\n",
        "- Supported methods are `\"nearest\"`, `\"bilinear\"`, and `\"bicubic\"`.\n",
        "- If PIL version 1.1.3 or newer is installed, `\"lanczos\"` is also supported.\n",
        "- If PIL version 3.4.0 or newer is installed, `\"box\"` and `\"hamming\"` are also supported.\n",
        "- By default, `\"nearest\"` is used.\n",
        "\n",
        "keep_aspect_ratio:\n",
        "- Boolean, whether to resize images to a target size without aspect ratio distortion.\n",
        "- The image is cropped in the center with target aspect ratio before resizing.\n"
      ],
      "metadata": {
        "id": "tnb6RVCpdR_L"
      },
      "id": "tnb6RVCpdR_L"
    },
    {
      "cell_type": "code",
      "source": [
        "setupgen = {}\n",
        "path = \"/content/TransferLearning-Datasets/Dataset/Test Sample/sample02.jpg\"\n",
        "filename = (path).split('/')[-1].split(\".\")[0]\n",
        "setupgen['File Prefix']     = filename\n",
        "\n",
        "image_dimX                        = 299 # @param {type:\"integer\"}\n",
        "image_dimY                        = 299 # @param {type:\"integer\"}\n",
        "setupgen['Target Size']           = (image_dimX, image_dimY)\n",
        "\n",
        "setupgen['Seed']                  = 1 # @param {type:\"integer\"}\n",
        "setupgen['File Format']           = \"jpg\" # @param [\"png\", \"jpg\", \"jpeg\", \"bmp\", \"ppm\", \"tif\", \"tiff\"]\n",
        "setupgen['Save Directory']        = \"DataAugmentation\" # @param {type: \"string\"}\n",
        "setupgen['Batch Size']            = 1  # @param {type: \"integer\"}\n",
        "setupgen['Number of Generations'] = 10  # @param {type: \"integer\"}\n",
        "setupgen['Color Mode']            = 'rgb' # @param [\"rgb\", \"rgba\", \"grayscale\"]\n",
        "setupgen['Interpolation']         = 'nearest' # @param [\"nearest\", \"bilinear\", \"bicubic\", \"lanczos\", \"box\", \"hamming\"]\n",
        "setupgen['Keep Aspect Ratio']     = True # @param {type: \"boolean\"}\n"
      ],
      "metadata": {
        "id": "DrYSf-zHdIdS"
      },
      "id": "DrYSf-zHdIdS",
      "execution_count": 56,
      "outputs": []
    },
    {
      "cell_type": "markdown",
      "id": "0c7aebe7",
      "metadata": {
        "id": "0c7aebe7"
      },
      "source": [
        "## Examples"
      ]
    },
    {
      "cell_type": "code",
      "execution_count": 57,
      "id": "7ff4e2e4",
      "metadata": {
        "id": "7ff4e2e4"
      },
      "outputs": [],
      "source": [
        "augment_image(path, datagen, setupgen)"
      ]
    }
  ],
  "metadata": {
    "kernelspec": {
      "display_name": ".venv",
      "language": "python",
      "name": "python3"
    },
    "language_info": {
      "codemirror_mode": {
        "name": "ipython",
        "version": 3
      },
      "file_extension": ".py",
      "mimetype": "text/x-python",
      "name": "python",
      "nbconvert_exporter": "python",
      "pygments_lexer": "ipython3",
      "version": "3.11.9"
    },
    "colab": {
      "provenance": [],
      "include_colab_link": true
    }
  },
  "nbformat": 4,
  "nbformat_minor": 5
}